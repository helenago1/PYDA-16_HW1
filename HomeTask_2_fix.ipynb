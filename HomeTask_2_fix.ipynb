{
 "cells": [
  {
   "cell_type": "code",
   "execution_count": null,
   "metadata": {},
   "outputs": [],
   "source": [
    "word = input('Введите слово: ')\n",
    "if len(word) % 2 == 0:\n",
    "   print(word[int(len(word) / 2 - 1):int(len(word) / 2 + 1)])\n",
    "else:\n",
    "   print(word[len(word) // 2])"
   ]
  },
  {
   "cell_type": "code",
   "execution_count": null,
   "metadata": {},
   "outputs": [],
   "source": [
    "print('Введите число:')\n",
    "x = int(input())\n",
    "res = 0\n",
    "while x:\n",
    "    res += x\n",
    "    print('Введите число:')\n",
    "    x = int(input())\n",
    "print('Результат:\\n',res)\n"
   ]
  },
  {
   "cell_type": "code",
   "execution_count": 4,
   "metadata": {},
   "outputs": [
    {
     "name": "stdout",
     "output_type": "stream",
     "text": [
      "Идеальные пары:\n",
      "\n",
      "Alex и Emma\n",
      "Arthur и Kate\n",
      "Jonh и Kira\n",
      "Peter и Liza\n",
      "Richard и Trisha\n"
     ]
    }
   ],
   "source": [
    "boys = ['Peter', 'Alex', 'Jonh', 'Arthur', 'Richard']\n",
    "girls = ['Kate', 'Liza', 'Kira', 'Emma', 'Trisha']\n",
    "\n",
    "if len(boys) != len(girls):\n",
    "    print('Внимание, кто-то может остаться без пары!')\n",
    "else:\n",
    "    print('Идеальные пары:\\n')\n",
    "    b = boys.sort()\n",
    "    g = girls.sort()\n",
    "    for b, g in zip(boys, girls):\n",
    "        print(b, 'и', g)"
   ]
  },
  {
   "cell_type": "code",
   "execution_count": 5,
   "metadata": {},
   "outputs": [
    {
     "name": "stdout",
     "output_type": "stream",
     "text": [
      "Средняя температура в странах:\n",
      "\n",
      "Tailand - 74.9 C\n",
      "Germany - 56.8 C\n",
      "Russia - 38.7 C\n",
      "Poland - 53.6 C\n"
     ]
    }
   ],
   "source": [
    "countries_temperature = [\n",
    "    ['Tailand', [75.2, 77, 78.8, 73.4, 68, 75.2, 77]],\n",
    "    ['Germany', [57.2, 55.4, 59, 59, 53.6]],\n",
    "    ['Russia', [35.6, 37.4, 39.2, 41, 42.8, 39.2, 35.6]],\n",
    "    ['Poland', [50, 50, 53.6, 57.2, 55.4, 55.4]]\n",
    "    ]\n",
    "print('Средняя температура в странах:\\n',) \n",
    "for country, temperature in countries_temperature:\n",
    "    print(country, '-', round(sum(temperature)/len(temperature),1),'C')\n",
    "       "
   ]
  },
  {
   "cell_type": "code",
   "execution_count": null,
   "metadata": {},
   "outputs": [],
   "source": []
  }
 ],
 "metadata": {
  "kernelspec": {
   "display_name": "Python 3",
   "language": "python",
   "name": "python3"
  },
  "language_info": {
   "codemirror_mode": {
    "name": "ipython",
    "version": 3
   },
   "file_extension": ".py",
   "mimetype": "text/x-python",
   "name": "python",
   "nbconvert_exporter": "python",
   "pygments_lexer": "ipython3",
   "version": "3.8.3"
  }
 },
 "nbformat": 4,
 "nbformat_minor": 4
}
