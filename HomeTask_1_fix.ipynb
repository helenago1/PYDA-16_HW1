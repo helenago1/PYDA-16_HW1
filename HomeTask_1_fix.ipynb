{
 "cells": [
  {
   "cell_type": "code",
   "execution_count": 2,
   "metadata": {},
   "outputs": [
    {
     "name": "stdout",
     "output_type": "stream",
     "text": [
      "Фраза 2 длиннее фразы 1\n"
     ]
    }
   ],
   "source": [
    "phrase_1 = '640Кб должно хватить для любых задач. Билл Гейтс (по легенде)'\n",
    "phrase_2 = 'Насколько проще было бы писать программы, если бы не заказчики'\n",
    "for p1 in phrase_1:\n",
    "    if len(phrase_1) > len(phrase_2):\n",
    "        print('Фраза 1 длиннее фразы 2'),\n",
    "    elif len(phrase_1) < len(phrase_2):\n",
    "        print('Фраза 2 длиннее фразы 1'),\n",
    "    else:\n",
    "        print('Фразы одной длины')\n",
    "    break"
   ]
  },
  {
   "cell_type": "code",
   "execution_count": 20,
   "metadata": {},
   "outputs": [
    {
     "name": "stdout",
     "output_type": "stream",
     "text": [
      "Введите год: 2100\n",
      "Невисокосный год\n"
     ]
    }
   ],
   "source": [
    "print('Введите год: ', end = '')\n",
    "year = int(input())\n",
    "if year % 4 == 0 and year % 100 == 0:\n",
    "    print('Невисокосный год')\n",
    "elif year % 400 == 0:\n",
    "    print('Високосный год')\n",
    "else:\n",
    "    print('Високосный год')"
   ]
  },
  {
   "cell_type": "code",
   "execution_count": 25,
   "metadata": {},
   "outputs": [
    {
     "name": "stdout",
     "output_type": "stream",
     "text": [
      "Введите ширину товара: 45\n",
      "Введите длину товара: 205\n",
      "Введите высоту товара: 45\n",
      "Коробка для лыж\n"
     ]
    }
   ],
   "source": [
    "wedth = float(input('Введите ширину товара: '))\n",
    "length = float(input('Введите длину товара: '))\n",
    "height = float(input('Введите высоту товара: '))\n",
    "if(length > 200):\n",
    "     print('Коробка для лыж'),\n",
    "elif(wedth < 15 and length < 15 and height < 15):\n",
    "        print('Коробка №1'),\n",
    "elif(wedth > 15 or length > 15 or height > 15):\n",
    "    print('Коробка №2'),\n",
    "else:\n",
    "    print('Стандартная коробка №3')\n",
    "   "
   ]
  },
  {
   "cell_type": "code",
   "execution_count": null,
   "metadata": {},
   "outputs": [],
   "source": []
  }
 ],
 "metadata": {
  "kernelspec": {
   "display_name": "Python 3",
   "language": "python",
   "name": "python3"
  },
  "language_info": {
   "codemirror_mode": {
    "name": "ipython",
    "version": 3
   },
   "file_extension": ".py",
   "mimetype": "text/x-python",
   "name": "python",
   "nbconvert_exporter": "python",
   "pygments_lexer": "ipython3",
   "version": "3.8.3"
  }
 },
 "nbformat": 4,
 "nbformat_minor": 4
}
